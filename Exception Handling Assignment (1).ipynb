{
 "cells": [
  {
   "cell_type": "code",
   "execution_count": null,
   "id": "1b2704ac-affd-4c1d-9874-f5f5c7667dd5",
   "metadata": {},
   "outputs": [],
   "source": [
    "What is an Exception in python? Write the difference between Exceptions\n",
    "and Syntax errors"
   ]
  },
  {
   "cell_type": "code",
   "execution_count": null,
   "id": "d0cb740c-81e0-4ad6-a2e2-dee26d294073",
   "metadata": {},
   "outputs": [],
   "source": [
    "Exception handling deals with the occurrence of unexpected or exceptional situations, often called exceptions\n",
    "during the execution of a program. These exceptions can arise due to various reasons such as invalid input,\n",
    "hardware failures, or other unforeseen conditions."
   ]
  },
  {
   "cell_type": "code",
   "execution_count": 1,
   "id": "0937277c-97d8-4cae-9804-2483d6596f26",
   "metadata": {},
   "outputs": [
    {
     "name": "stdout",
     "output_type": "stream",
     "text": [
      "Cannot divide by zero!\n",
      "Finally block executed.\n"
     ]
    }
   ],
   "source": [
    "try:\n",
    "    result = 10 / 0\n",
    "except ZeroDivisionError:\n",
    "    print(\"Cannot divide by zero!\")\n",
    "finally:\n",
    "    print(\"Finally block executed.\")\n"
   ]
  },
  {
   "cell_type": "code",
   "execution_count": null,
   "id": "3fa7fedd-6e5c-4ee1-8746-7b9f7e8d6862",
   "metadata": {},
   "outputs": [],
   "source": [
    "Syntax errors: \n",
    "occur when the code violates the rules of the programming language's syntax. They are detected by the compiler/interpreter\n",
    "during the parsing phase before the program is executed."
   ]
  },
  {
   "cell_type": "code",
   "execution_count": 2,
   "id": "4e2c4e80-6176-4df3-b6da-c083b81386e6",
   "metadata": {},
   "outputs": [
    {
     "ename": "SyntaxError",
     "evalue": "expected ':' (3580800534.py, line 2)",
     "output_type": "error",
     "traceback": [
      "\u001b[0;36m  Cell \u001b[0;32mIn[2], line 2\u001b[0;36m\u001b[0m\n\u001b[0;31m    def fun()\u001b[0m\n\u001b[0m             ^\u001b[0m\n\u001b[0;31mSyntaxError\u001b[0m\u001b[0;31m:\u001b[0m expected ':'\n"
     ]
    }
   ],
   "source": [
    "#example\n",
    "def fun()"
   ]
  },
  {
   "cell_type": "code",
   "execution_count": null,
   "id": "7b97fbb8-af3c-4f49-942e-56bd02aad11f",
   "metadata": {},
   "outputs": [],
   "source": [
    "Exceptions:\n",
    "are runtime errors that occur during the execution of a program due to exceptional situations.\n",
    "They can be caused by various factors such as invalid input, hardware failures, or logical errors in the program."
   ]
  },
  {
   "cell_type": "code",
   "execution_count": null,
   "id": "8b9bcdbb-e7e2-44e0-9a93-b8e5d86e9cef",
   "metadata": {},
   "outputs": [],
   "source": [
    "Q2.what happen when an exception is not handled? give example"
   ]
  },
  {
   "cell_type": "code",
   "execution_count": null,
   "id": "5819ba20-e0a5-4fdd-a343-af440a038020",
   "metadata": {},
   "outputs": [],
   "source": [
    "If the exception is not caught and handled at any point, the program will terminate abruptly, and an error message \n",
    "will be displayed, indicating the type\n",
    "of exception that occurred"
   ]
  },
  {
   "cell_type": "code",
   "execution_count": 3,
   "id": "edb0bde6-8a71-439a-af35-6816ae79f92f",
   "metadata": {},
   "outputs": [
    {
     "ename": "ZeroDivisionError",
     "evalue": "division by zero",
     "output_type": "error",
     "traceback": [
      "\u001b[0;31m---------------------------------------------------------------------------\u001b[0m",
      "\u001b[0;31mZeroDivisionError\u001b[0m                         Traceback (most recent call last)",
      "Cell \u001b[0;32mIn[3], line 5\u001b[0m\n\u001b[1;32m      2\u001b[0m     \u001b[38;5;28;01mreturn\u001b[39;00m a \u001b[38;5;241m/\u001b[39m b\n\u001b[1;32m      4\u001b[0m \u001b[38;5;28;01mtry\u001b[39;00m:\n\u001b[0;32m----> 5\u001b[0m     result \u001b[38;5;241m=\u001b[39m \u001b[43mdivide\u001b[49m\u001b[43m(\u001b[49m\u001b[38;5;241;43m10\u001b[39;49m\u001b[43m,\u001b[49m\u001b[43m \u001b[49m\u001b[38;5;241;43m0\u001b[39;49m\u001b[43m)\u001b[49m  \u001b[38;5;66;03m# This will raise a ZeroDivisionError\u001b[39;00m\n\u001b[1;32m      6\u001b[0m     \u001b[38;5;28mprint\u001b[39m(result)\n\u001b[1;32m      7\u001b[0m \u001b[38;5;28;01mexcept\u001b[39;00m \u001b[38;5;167;01mValueError\u001b[39;00m:\n",
      "Cell \u001b[0;32mIn[3], line 2\u001b[0m, in \u001b[0;36mdivide\u001b[0;34m(a, b)\u001b[0m\n\u001b[1;32m      1\u001b[0m \u001b[38;5;28;01mdef\u001b[39;00m \u001b[38;5;21mdivide\u001b[39m(a, b):\n\u001b[0;32m----> 2\u001b[0m     \u001b[38;5;28;01mreturn\u001b[39;00m \u001b[43ma\u001b[49m\u001b[43m \u001b[49m\u001b[38;5;241;43m/\u001b[39;49m\u001b[43m \u001b[49m\u001b[43mb\u001b[49m\n",
      "\u001b[0;31mZeroDivisionError\u001b[0m: division by zero"
     ]
    }
   ],
   "source": [
    "def divide(a, b):\n",
    "    return a / b\n",
    "\n",
    "try:\n",
    "    result = divide(10, 0)  # This will raise a ZeroDivisionError\n",
    "    print(result)\n",
    "except ValueError:\n",
    "    print(\"Caught a ValueError\")\n"
   ]
  },
  {
   "cell_type": "code",
   "execution_count": null,
   "id": "bd057095-4e6b-497a-9f6f-6ca146a5a916",
   "metadata": {},
   "outputs": [],
   "source": [
    "Q3.which Python statement are used to catch and handle exception with example"
   ]
  },
  {
   "cell_type": "code",
   "execution_count": null,
   "id": "9a5a6b80-cda6-42d2-a724-964950594826",
   "metadata": {},
   "outputs": [],
   "source": [
    "In Python, the try, except, else, and finally statements are used for exception handling."
   ]
  },
  {
   "cell_type": "code",
   "execution_count": 4,
   "id": "4609decf-e77c-422f-918f-7747b73e9a9e",
   "metadata": {},
   "outputs": [
    {
     "name": "stdout",
     "output_type": "stream",
     "text": [
      "this is else block\n",
      "always executes\n"
     ]
    }
   ],
   "source": [
    "try: \n",
    "    f=open(\"tect.txt\",\"r\")\n",
    "except  Exception as e:\n",
    "    print(\"file doesn't exist\")\n",
    "else:\n",
    "    print(\"this is else block\")\n",
    "finally:\n",
    "    print(\"always executes\")"
   ]
  },
  {
   "cell_type": "code",
   "execution_count": null,
   "id": "26bef4cd-9db2-445d-8e26-078effaa5542",
   "metadata": {},
   "outputs": [],
   "source": [
    "Q4. Explain with an example:\n",
    "    \n",
    "try and else\n",
    "finally\n",
    "else"
   ]
  },
  {
   "cell_type": "code",
   "execution_count": null,
   "id": "d3611814-3a95-4edf-8752-2103a2497158",
   "metadata": {},
   "outputs": [],
   "source": [
    "The try block is used to wrap the code that might raise an exception,\n",
    "and the else block is used to specify a block of code to be executed if no exceptions are raised in the try block"
   ]
  },
  {
   "cell_type": "code",
   "execution_count": 5,
   "id": "1147e80c-e2d8-4a57-ac2c-ba4d8003340e",
   "metadata": {},
   "outputs": [
    {
     "name": "stdout",
     "output_type": "stream",
     "text": [
      "addition is 14\n"
     ]
    }
   ],
   "source": [
    "try:\n",
    "    c=5+9\n",
    "except ZeroDivisionError:\n",
    "    print(\"Cannot divide by zero!\")\n",
    "else:\n",
    "    print(\"addition is\",c)"
   ]
  },
  {
   "cell_type": "code",
   "execution_count": null,
   "id": "543431bc-d13d-4783-bc50-bbc8faee64af",
   "metadata": {},
   "outputs": [],
   "source": [
    "The finally block is used to specify a block of code to be executed regardless of whether an exception is raised or not."
   ]
  },
  {
   "cell_type": "code",
   "execution_count": 6,
   "id": "6bbe4dde-d546-4935-b42f-c1fcb4de6989",
   "metadata": {},
   "outputs": [
    {
     "name": "stdout",
     "output_type": "stream",
     "text": [
      "is the additon done\n"
     ]
    }
   ],
   "source": [
    "try:\n",
    "    c=5+9\n",
    "finally:\n",
    "    print(\"is the additon done\")"
   ]
  },
  {
   "cell_type": "code",
   "execution_count": null,
   "id": "81bcbce9-cacc-47ed-b08c-77e2ce61cf6b",
   "metadata": {},
   "outputs": [],
   "source": [
    "Q5.what are custom exception and Python why do we need custom exception explain with an example"
   ]
  },
  {
   "cell_type": "code",
   "execution_count": null,
   "id": "1e419d39-5e11-4939-b20f-10cd1c72e267",
   "metadata": {},
   "outputs": [],
   "source": [
    "A custom exception is a class that inherits from the built-in 'Exception' class. This allows us to create our\n",
    "own error conditions and handle them in a more specific."
   ]
  },
  {
   "cell_type": "code",
   "execution_count": null,
   "id": "302f06a1-3bb1-4656-be28-3cb98a4e3b6d",
   "metadata": {},
   "outputs": [],
   "source": [
    "Clarity: \n",
    "Custom exceptions can make code more readable and understandable by providing descriptive error messages.\n",
    "Specificity:\n",
    "They allow you to create exceptions tailored to your applications domain, making it easier to identify and handle  \n",
    "specific error conditions.\n",
    "Error Handling:\n",
    "implement specialized error-handling logic, such as logging specific details or taking corrective actions"
   ]
  },
  {
   "cell_type": "code",
   "execution_count": null,
   "id": "9227a3c7-8ef1-434d-9acd-ef4fe3f41f52",
   "metadata": {},
   "outputs": [],
   "source": [
    "class MyCustomException(Exception):\n",
    "  def __init__(self, message):\n",
    "    self.message = message\n",
    "\n",
    "def my_function():\n",
    "  if something_goes_wrong:\n",
    "    raise MyCustomException(\"Something went wrong!\")\n",
    "\n",
    "try:\n",
    "  my_function()\n",
    "except MyCustomException as e:\n",
    "  print(e.message)"
   ]
  },
  {
   "cell_type": "code",
   "execution_count": null,
   "id": "e083c610-4367-494a-8589-694f14457fbd",
   "metadata": {},
   "outputs": [],
   "source": [
    "Q6.create a custom exception class .use this class to handle an exception."
   ]
  },
  {
   "cell_type": "code",
   "execution_count": 9,
   "id": "93ca319f-09c0-4a65-a614-8b199d902d1d",
   "metadata": {},
   "outputs": [
    {
     "ename": "AttributeError",
     "evalue": "'Exception' object has no attribute 'message'",
     "output_type": "error",
     "traceback": [
      "\u001b[0;31m---------------------------------------------------------------------------\u001b[0m",
      "\u001b[0;31mException\u001b[0m                                 Traceback (most recent call last)",
      "Cell \u001b[0;32mIn[9], line 2\u001b[0m\n\u001b[1;32m      1\u001b[0m \u001b[38;5;28;01mtry\u001b[39;00m:\n\u001b[0;32m----> 2\u001b[0m     \u001b[38;5;28;01mraise\u001b[39;00m \u001b[38;5;167;01mException\u001b[39;00m(\u001b[38;5;124m\"\u001b[39m\u001b[38;5;124mThis is an error message.\u001b[39m\u001b[38;5;124m\"\u001b[39m)\n\u001b[1;32m      3\u001b[0m \u001b[38;5;28;01mexcept\u001b[39;00m \u001b[38;5;167;01mException\u001b[39;00m \u001b[38;5;28;01mas\u001b[39;00m e:\n",
      "\u001b[0;31mException\u001b[0m: This is an error message.",
      "\nDuring handling of the above exception, another exception occurred:\n",
      "\u001b[0;31mAttributeError\u001b[0m                            Traceback (most recent call last)",
      "Cell \u001b[0;32mIn[9], line 4\u001b[0m\n\u001b[1;32m      2\u001b[0m     \u001b[38;5;28;01mraise\u001b[39;00m \u001b[38;5;167;01mException\u001b[39;00m(\u001b[38;5;124m\"\u001b[39m\u001b[38;5;124mThis is an error message.\u001b[39m\u001b[38;5;124m\"\u001b[39m)\n\u001b[1;32m      3\u001b[0m \u001b[38;5;28;01mexcept\u001b[39;00m \u001b[38;5;167;01mException\u001b[39;00m \u001b[38;5;28;01mas\u001b[39;00m e:\n\u001b[0;32m----> 4\u001b[0m     \u001b[38;5;28mprint\u001b[39m(\u001b[43me\u001b[49m\u001b[38;5;241;43m.\u001b[39;49m\u001b[43mmessage\u001b[49m)\n",
      "\u001b[0;31mAttributeError\u001b[0m: 'Exception' object has no attribute 'message'"
     ]
    }
   ],
   "source": [
    "try:\n",
    "    raise Exception(\"This is an error message.\")\n",
    "except Exception as e:\n",
    "    print(e.message)"
   ]
  },
  {
   "cell_type": "code",
   "execution_count": null,
   "id": "7efe2bfe-a489-43db-b8f9-085bf2845373",
   "metadata": {},
   "outputs": [],
   "source": []
  }
 ],
 "metadata": {
  "kernelspec": {
   "display_name": "Python 3 (ipykernel)",
   "language": "python",
   "name": "python3"
  },
  "language_info": {
   "codemirror_mode": {
    "name": "ipython",
    "version": 3
   },
   "file_extension": ".py",
   "mimetype": "text/x-python",
   "name": "python",
   "nbconvert_exporter": "python",
   "pygments_lexer": "ipython3",
   "version": "3.10.8"
  }
 },
 "nbformat": 4,
 "nbformat_minor": 5
}
